{
 "cells": [
  {
   "cell_type": "code",
   "execution_count": null,
   "id": "d11134d9-8bbd-4501-85f1-773ce4167f6c",
   "metadata": {},
   "outputs": [],
   "source": [
    "from pyspark.sql import SparkSession\n",
    "session = (\n",
    "    SparkSession.builder.appName(\"pyspark sample\")\n",
    "    .enableHiveSupport()\n",
    "    .getOrCreate()\n",
    ")"
   ]
  },
  {
   "cell_type": "code",
   "execution_count": null,
   "id": "b541a4d2-5ea7-4422-ad5e-dde7b5cc9e87",
   "metadata": {},
   "outputs": [],
   "source": [
    "from openaq.sample import read_loaded_data_from_s3"
   ]
  },
  {
   "cell_type": "code",
   "execution_count": null,
   "id": "13a6066e-c6c5-408d-9433-b5ea69ca5146",
   "metadata": {},
   "outputs": [],
   "source": [
    "df = read_loaded_data_from_s3(session)"
   ]
  },
  {
   "cell_type": "code",
   "execution_count": null,
   "id": "8ca81d82-af22-42ef-8260-b636acc4fb31",
   "metadata": {},
   "outputs": [],
   "source": [
    "df.head()"
   ]
  },
  {
   "cell_type": "code",
   "execution_count": null,
   "id": "29592ce1-da0d-480e-930d-c62e6dc94e3b",
   "metadata": {},
   "outputs": [],
   "source": []
  }
 ],
 "metadata": {
  "kernelspec": {
   "display_name": "Python 3.9",
   "language": "python",
   "name": "python3.9"
  },
  "language_info": {
   "codemirror_mode": {
    "name": "ipython",
    "version": 3
   },
   "file_extension": ".py",
   "mimetype": "text/x-python",
   "name": "python",
   "nbconvert_exporter": "python",
   "pygments_lexer": "ipython3",
   "version": "3.9.7"
  }
 },
 "nbformat": 4,
 "nbformat_minor": 5
}